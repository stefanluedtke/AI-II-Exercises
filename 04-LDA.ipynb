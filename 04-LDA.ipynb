{
 "cells": [
  {
   "cell_type": "markdown",
   "metadata": {},
   "source": [
    "# Quadratische Diskriminantenanalyse\n",
    "\n",
    "In dieser Übung werden Sie selbst eine quadratische Diskriminantenanalyse (QDA) implementieren. Zur Erinnerung: Die QDA berechnet $p(x|y)=\\frac{p(y|x)*p(x)}{p(y)}$. Die Likelihood $p(y|x)$ wird als normalverteilt angenommen."
   ]
  },
  {
   "cell_type": "markdown",
   "metadata": {},
   "source": [
    "## Aufgabe 1\n",
    "Eine Fischerin benötigt Ihre Hilfe bei der Klassifikation von Fischen. Vor kurzem hat sie folgende Fische gefangen: \n",
    "\n",
    "| Länge (m)    | Art          | \n",
    "| ------------- |-------------  |\n",
    "| 1.3           | Barsch       |\n",
    "| 0.7           | Lachs       |\n",
    "| 0.62           | Lachs      |\n",
    "| 0.9           | Lachs       |\n",
    "| 0.91          | Barsch       |\n",
    "| 0.31          | Hering       |\n",
    "| 0.26           | Hering       |\n",
    "\n",
    "* Berechnen Sie die Priors $p(\\omega)$ für jede Fischart\n",
    "* Berechnen Sie die Parameter $\\mu$ und $\\sigma^2$ für die Lkelihoods $p(x|\\omega)$. \n",
    "* Die Fischerin fängt einen neuen Fisch mit Länge $x = 0.82 m$. Berechen Sie die Posterior-Wahrscheinlichkeit $p(\\omega|x)$ für jede Klasse. Wie wird der Fisch klassifiziert?"
   ]
  },
  {
   "cell_type": "markdown",
   "metadata": {},
   "source": []
  },
  {
   "cell_type": "markdown",
   "metadata": {},
   "source": [
    "## Aufgabe 2\n",
    "Implementieren Sie eine Funktion `priors(classes)`, die für einen Vektor von Klassen-Labels den Prior $p(x)$ für jede Klasse ausgibt.\n",
    "Die Eingabe soll ein Array von Klassen sein (z.b. `np.array([\"stand\",\"sit\",\"sit\",\"stand\"])`). Die Ausgabe soll ein Data Frame mit den Spalten `class` und `prior` sein."
   ]
  },
  {
   "cell_type": "code",
   "execution_count": 39,
   "metadata": {},
   "outputs": [
    {
     "name": "stdout",
     "output_type": "stream",
     "text": [
      "   class prior\n",
      "0    sit   0.6\n",
      "1  stand   0.4\n"
     ]
    },
    {
     "data": {
      "text/plain": [
       "array(['sit', 'stand'], dtype=object)"
      ]
     },
     "execution_count": 39,
     "metadata": {},
     "output_type": "execute_result"
    }
   ],
   "source": [
    "import numpy as np\n",
    "import pandas as pd\n",
    "\n",
    "def priors(classes):\n",
    "    #TODO\n",
    "    return \"implement me!\"\n",
    "    \n",
    "pp = priors(np.array([\"stand\",\"sit\",\"sit\",\"sit\",\"stand\"]))\n",
    "print(pp)\n",
    "np.array(pp[\"class\"])"
   ]
  },
  {
   "cell_type": "markdown",
   "metadata": {},
   "source": [
    "## Aufgabe 3\n",
    "Implementieren Sie eine Funktion `likelihood(data)`, die für ein Data Frame, bestehend aus einer Spalte $y$ und einer Spalte $x$, die Likelihood $p(y|x)$ für jede Klasse $x$ mit einer Normalverteilung approximiert, d.h. es soll für jede Klasse ein Mittelwert und eine Varianz ausgegeben werden.\n",
    "Die Ausgabe soll also die Spalten `class`, `mean` und `variance` besitzen.\n",
    "\n",
    "Plotten Sie die Likelihood für jede Klasse."
   ]
  },
  {
   "cell_type": "code",
   "execution_count": 38,
   "metadata": {},
   "outputs": [
    {
     "data": {
      "text/html": [
       "<div>\n",
       "<style scoped>\n",
       "    .dataframe tbody tr th:only-of-type {\n",
       "        vertical-align: middle;\n",
       "    }\n",
       "\n",
       "    .dataframe tbody tr th {\n",
       "        vertical-align: top;\n",
       "    }\n",
       "\n",
       "    .dataframe thead th {\n",
       "        text-align: right;\n",
       "    }\n",
       "</style>\n",
       "<table border=\"1\" class=\"dataframe\">\n",
       "  <thead>\n",
       "    <tr style=\"text-align: right;\">\n",
       "      <th></th>\n",
       "      <th>mean</th>\n",
       "      <th>variance</th>\n",
       "      <th>class</th>\n",
       "    </tr>\n",
       "  </thead>\n",
       "  <tbody>\n",
       "    <tr>\n",
       "      <th>0</th>\n",
       "      <td>523.545587</td>\n",
       "      <td>15.843081</td>\n",
       "      <td>b'bike'</td>\n",
       "    </tr>\n",
       "    <tr>\n",
       "      <th>1</th>\n",
       "      <td>517.316002</td>\n",
       "      <td>18.523919</td>\n",
       "      <td>b'downstairs'</td>\n",
       "    </tr>\n",
       "    <tr>\n",
       "      <th>2</th>\n",
       "      <td>467.870175</td>\n",
       "      <td>56.697558</td>\n",
       "      <td>b'lie'</td>\n",
       "    </tr>\n",
       "    <tr>\n",
       "      <th>3</th>\n",
       "      <td>527.009294</td>\n",
       "      <td>96.483175</td>\n",
       "      <td>b'run'</td>\n",
       "    </tr>\n",
       "    <tr>\n",
       "      <th>4</th>\n",
       "      <td>486.721946</td>\n",
       "      <td>71.790221</td>\n",
       "      <td>b'sit'</td>\n",
       "    </tr>\n",
       "    <tr>\n",
       "      <th>5</th>\n",
       "      <td>528.594727</td>\n",
       "      <td>1.057665</td>\n",
       "      <td>b'stand'</td>\n",
       "    </tr>\n",
       "    <tr>\n",
       "      <th>6</th>\n",
       "      <td>545.413484</td>\n",
       "      <td>62.520043</td>\n",
       "      <td>b'upstairs'</td>\n",
       "    </tr>\n",
       "    <tr>\n",
       "      <th>7</th>\n",
       "      <td>525.170962</td>\n",
       "      <td>1.221023</td>\n",
       "      <td>b'walk'</td>\n",
       "    </tr>\n",
       "  </tbody>\n",
       "</table>\n",
       "</div>"
      ],
      "text/plain": [
       "         mean   variance          class\n",
       "0  523.545587  15.843081        b'bike'\n",
       "1  517.316002  18.523919  b'downstairs'\n",
       "2  467.870175  56.697558         b'lie'\n",
       "3  527.009294  96.483175         b'run'\n",
       "4  486.721946  71.790221         b'sit'\n",
       "5  528.594727   1.057665       b'stand'\n",
       "6  545.413484  62.520043    b'upstairs'\n",
       "7  525.170962   1.221023        b'walk'"
      ]
     },
     "execution_count": 38,
     "metadata": {},
     "output_type": "execute_result"
    }
   ],
   "source": [
    "def likelihood(data):\n",
    "    #TODO\n",
    "    return \"implement me!\"\n",
    "    \n",
    "data = arff.loadarff('features1.arff')\n",
    "df = pd.DataFrame(data[0])\n",
    "\n",
    "dat = df.loc[:, [\"AccX_mean\",\"class\"]]\n",
    "dat.columns = [\"x\",\"class\"]\n",
    "lik = likelihood(dat)\n",
    "lik"
   ]
  },
  {
   "cell_type": "markdown",
   "metadata": {},
   "source": [
    "## Aufgabe 4\n",
    "Implementieren Sie eine Funktion mylda(newdat,lik,priors), die für eine neue Beobachtung `newdat` die wahrscheinlichste Klasse zurückgibt.\n",
    "\n",
    "Testen Sie Ihre Implementierung auf dem Datensatz `features1.arff`. „Trainieren“ Sie die QDA (d.h. berechnen Sie likelihood und prior), und führen Sie dann für die gleichen Daten eine Klassifikation durch. Wie gut ist die Klassifikation?"
   ]
  },
  {
   "cell_type": "code",
   "execution_count": 111,
   "metadata": {},
   "outputs": [
    {
     "name": "stdout",
     "output_type": "stream",
     "text": [
      "0.47\n"
     ]
    }
   ],
   "source": [
    "from scipy.io import arff\n",
    "import scipy.stats\n",
    "\n",
    "def mylda(newdat,lik,prior):\n",
    "    #TODO\n",
    "    return \"implement me!\""
   ]
  }
 ],
 "metadata": {
  "kernelspec": {
   "display_name": "Python 3",
   "language": "python",
   "name": "python3"
  },
  "language_info": {
   "codemirror_mode": {
    "name": "ipython",
    "version": 3
   },
   "file_extension": ".py",
   "mimetype": "text/x-python",
   "name": "python",
   "nbconvert_exporter": "python",
   "pygments_lexer": "ipython3",
   "version": "3.7.4"
  }
 },
 "nbformat": 4,
 "nbformat_minor": 2
}
