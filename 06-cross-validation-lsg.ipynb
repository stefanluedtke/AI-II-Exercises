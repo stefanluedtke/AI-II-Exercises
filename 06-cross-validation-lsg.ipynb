{
 "cells": [
  {
   "cell_type": "markdown",
   "metadata": {},
   "source": [
    "# Kreuzvalidierung\n",
    "Zur Erinnerung: Häufig möchte man eine feste Aufteilung in Trainings- und Validierungsdaten vermeiden (die Validierungs-Performance soll nicht von der Wahl der Daten-Aufteilung abhängen). Außerdem möchte man möglichst viele Daten zum Training benutzen. Diese Ziele lasssen sich mit einer Kreuzvalidierung erreichen:\n",
    "Dabei werden die Daten $S$ in die Teilmengen $S_i,\\dots,S_n$ aufgeteilt. In Lauf $i$ wird $S \\setminus S_i$ als Trainingsdaten und $S_i$ als Validierungsdaten verwendet. Die Klassifikationsgüte ist die durchschnittliche Klassifikationsgüte jedes Laufs. \n",
    "\n",
    "## Aufgabe\n",
    "* Implementieren Sie die Funktion `cv(clf,features,classes,n)`, die eine n-fache Kreuzvalidierung mit dem jeweiligen Klassifikator durchführt und die mittlere Accuracy zurückgibt. \n",
    "* Klassifizieren Sie die Daten anhand der Accelerometer-Daten des rechten Arms. Verwenden Sie dazu eine LDA und eine SVM. Bestimmen Sie die Accuracy mit einer 10-fachen Kreuzvalidierung. Welcher Klassifikator liefert das bessere Ergebnis?\n",
    "* Verwenden Sie weitere Features auf weiteren vorhandenen Daten. Mit welcher Kombination erreichen Sie das beste Ergebnis?"
   ]
  },
  {
   "cell_type": "code",
   "execution_count": 33,
   "metadata": {},
   "outputs": [
    {
     "name": "stderr",
     "output_type": "stream",
     "text": [
      "/mnt/data/home/sl591/.conda/envs/exercises/lib/python3.7/site-packages/sklearn/svm/base.py:929: ConvergenceWarning: Liblinear failed to converge, increase the number of iterations.\n",
      "  \"the number of iterations.\", ConvergenceWarning)\n",
      "/mnt/data/home/sl591/.conda/envs/exercises/lib/python3.7/site-packages/sklearn/svm/base.py:929: ConvergenceWarning: Liblinear failed to converge, increase the number of iterations.\n",
      "  \"the number of iterations.\", ConvergenceWarning)\n",
      "/mnt/data/home/sl591/.conda/envs/exercises/lib/python3.7/site-packages/sklearn/svm/base.py:929: ConvergenceWarning: Liblinear failed to converge, increase the number of iterations.\n",
      "  \"the number of iterations.\", ConvergenceWarning)\n",
      "/mnt/data/home/sl591/.conda/envs/exercises/lib/python3.7/site-packages/sklearn/svm/base.py:929: ConvergenceWarning: Liblinear failed to converge, increase the number of iterations.\n",
      "  \"the number of iterations.\", ConvergenceWarning)\n",
      "/mnt/data/home/sl591/.conda/envs/exercises/lib/python3.7/site-packages/sklearn/svm/base.py:929: ConvergenceWarning: Liblinear failed to converge, increase the number of iterations.\n",
      "  \"the number of iterations.\", ConvergenceWarning)\n",
      "/mnt/data/home/sl591/.conda/envs/exercises/lib/python3.7/site-packages/sklearn/svm/base.py:929: ConvergenceWarning: Liblinear failed to converge, increase the number of iterations.\n",
      "  \"the number of iterations.\", ConvergenceWarning)\n",
      "/mnt/data/home/sl591/.conda/envs/exercises/lib/python3.7/site-packages/sklearn/svm/base.py:929: ConvergenceWarning: Liblinear failed to converge, increase the number of iterations.\n",
      "  \"the number of iterations.\", ConvergenceWarning)\n",
      "/mnt/data/home/sl591/.conda/envs/exercises/lib/python3.7/site-packages/sklearn/svm/base.py:929: ConvergenceWarning: Liblinear failed to converge, increase the number of iterations.\n",
      "  \"the number of iterations.\", ConvergenceWarning)\n",
      "/mnt/data/home/sl591/.conda/envs/exercises/lib/python3.7/site-packages/sklearn/svm/base.py:929: ConvergenceWarning: Liblinear failed to converge, increase the number of iterations.\n",
      "  \"the number of iterations.\", ConvergenceWarning)\n",
      "/mnt/data/home/sl591/.conda/envs/exercises/lib/python3.7/site-packages/sklearn/svm/base.py:929: ConvergenceWarning: Liblinear failed to converge, increase the number of iterations.\n",
      "  \"the number of iterations.\", ConvergenceWarning)\n"
     ]
    },
    {
     "name": "stdout",
     "output_type": "stream",
     "text": [
      "0.30852519213039303\n",
      "0.745706369514483\n",
      "0.8381174770351599\n",
      "0.8490560181814898\n"
     ]
    }
   ],
   "source": [
    "import numpy as np\n",
    "import pandas as pd\n",
    "from scipy.io import arff\n",
    "from sklearn.tree import DecisionTreeClassifier \n",
    "from sklearn.discriminant_analysis import LinearDiscriminantAnalysis, QuadraticDiscriminantAnalysis\n",
    "from sklearn.svm import LinearSVC\n",
    "import matplotlib.pyplot as plt\n",
    "\n",
    "def cv(clf,features,classes,n):\n",
    "    folds = np.random.choice(np.arange(n),features.shape[0],replace=True)\n",
    "    acc = np.arange(n).astype(\"double\")\n",
    "    for i in range(n):\n",
    "        train = features.loc[folds != i,:]\n",
    "        ytrain = classes.loc[folds != i].astype(\"str\")\n",
    "        clf = clf.fit(train,ytrain)\n",
    "        \n",
    "        val = features.loc[folds == i,:]\n",
    "        yval = classes.loc[folds == i].astype(\"str\")\n",
    "        \n",
    "        p = clf.predict(val)\n",
    "        acc[i]=sum(p == yval)/len(p)\n",
    "    return np.mean(acc)\n",
    "\n",
    "data = arff.loadarff('features1.arff')\n",
    "df = pd.DataFrame(data[0])\n",
    "features = df[[\"AccX_mean\",\"AccY_mean\",\"AccZ_mean\"]]\n",
    "classes = df[\"class\"]\n",
    "accsvc = cv(LinearSVC(),features,classes,10)\n",
    "acclda = cv(LinearDiscriminantAnalysis(),features,classes,10)\n",
    "accqda = cv(QuadraticDiscriminantAnalysis(),features,classes,10)\n",
    "accdt = cv(DecisionTreeClassifier(),features,classes,10)\n",
    "print(accsvc)\n",
    "print(acclda)\n",
    "print(accqda)\n",
    "print(accdt)"
   ]
  }
 ],
 "metadata": {
  "kernelspec": {
   "display_name": "Python [conda env:exercises]",
   "language": "python",
   "name": "conda-env-exercises-py"
  },
  "language_info": {
   "codemirror_mode": {
    "name": "ipython",
    "version": 3
   },
   "file_extension": ".py",
   "mimetype": "text/x-python",
   "name": "python",
   "nbconvert_exporter": "python",
   "pygments_lexer": "ipython3",
   "version": "3.7.2"
  }
 },
 "nbformat": 4,
 "nbformat_minor": 2
}
