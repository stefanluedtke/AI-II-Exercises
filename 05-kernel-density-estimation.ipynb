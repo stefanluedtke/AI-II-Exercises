{
 "cells": [
  {
   "cell_type": "markdown",
   "metadata": {},
   "source": [
    "# Kerndichteschätzung\n",
    "In der Vorlesung haben Sie Kerndichteschätzer als eine nichtparametrische Methode zum Darstellen einer Verteilung kennen gelernt. Dabei wird eine Verteilung an einem Punkt $x$ wie folgt dargestellt: \n",
    "\\begin{equation}\n",
    "p(t) = \\frac{1}{n \\, h} \\sum_{i=1}^n \\varphi\\left(\\frac{t-x_i}{h}\\right)\n",
    "\\end{equation}\n",
    "Hierbei ist $\\varphi$ eine Fenster-Funktion, z.B. das Gauß-Fenster\n",
    "\\begin{equation}\n",
    "\\varphi(u) = \\frac{1}{\\sqrt{2\\pi}} e^{-u^2/2}\n",
    "\\end{equation}\n",
    "## Aufgabe 1\n",
    "Implementieren Sie die Funktion `kde(t,h,x)`, die für einen Punkt $t$, eine Fenster-Breite $h$ und ein Array von Trainings-Pukten $x$, die Kerndichteschätzung für $p(t)$ berechnet."
   ]
  },
  {
   "cell_type": "code",
   "execution_count": null,
   "metadata": {},
   "outputs": [],
   "source": [
    "import math\n",
    "import numpy as np\n",
    "import matplotlib.pyplot as plt\n",
    "\n",
    "def kde(t,h,x):\n",
    "    #TODO\n",
    "    return None\n",
    "\n",
    "def k1(t):\n",
    "    return 1/math.sqrt(2*math.pi) * math.exp(-1/2 * t**2)\n",
    "\n",
    "example = np.concatenate((np.random.normal(0,1,100),np.random.normal(5,1,100)))\n",
    "\n",
    "dens = [kde(t,0.5,example) for t in np.arange(-2,8,0.05)]\n",
    "\n",
    "plt.plot(dens)"
   ]
  },
  {
   "cell_type": "markdown",
   "metadata": {},
   "source": [
    "## Aufgabe 2\n",
    "Implementieren Sie die Funktion `classify_kde(xnew,x,classes)`, die eine Klassifikation mit dem Kerndichteschätzer durchführt. Das bedeutet, es handelt sich um einen Bayes-Klassifikator, bei dem die Likelihood mit dem Kerndichteschätzer geschätzt wird."
   ]
  },
  {
   "cell_type": "code",
   "execution_count": null,
   "metadata": {},
   "outputs": [],
   "source": [
    "import pandas as pd\n",
    "from scipy.io import arff\n",
    "\n",
    "def classify_kde(xnew,x,classes):\n",
    "    #TODO\n",
    "    return None\n",
    "\n",
    "data = arff.loadarff('features1.arff')\n",
    "df = pd.DataFrame(data[0])\n",
    "feat = df[\"AccX_mean\"]\n",
    "cl = df[\"class\"]\n",
    "\n",
    "p = [classify_kde(x,feat,cl) for x in feat]\n",
    "np.mean(p == cl)"
   ]
  }
 ],
 "metadata": {
  "kernelspec": {
   "display_name": "Python [conda env:exercises]",
   "language": "python",
   "name": "conda-env-exercises-py"
  },
  "language_info": {
   "codemirror_mode": {
    "name": "ipython",
    "version": 3
   },
   "file_extension": ".py",
   "mimetype": "text/x-python",
   "name": "python",
   "nbconvert_exporter": "python",
   "pygments_lexer": "ipython3",
   "version": "3.7.2"
  }
 },
 "nbformat": 4,
 "nbformat_minor": 2
}
